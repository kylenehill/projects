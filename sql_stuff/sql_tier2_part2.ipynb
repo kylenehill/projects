{
 "cells": [
  {
   "cell_type": "markdown",
   "metadata": {},
   "source": [
    "## PART 2: SQLite\n",
    "\n",
    "Export the country club data from PHPMyAdmin, and connect to a local SQLite instance from Jupyter notebook \n",
    "for the following questions.  \n",
    "\n",
    "__QUESTIONS:\n",
    "Q10-13 below__\n",
    "\n",
    "\n"
   ]
  },
  {
   "cell_type": "code",
   "execution_count": 147,
   "metadata": {},
   "outputs": [
    {
     "name": "stdout",
     "output_type": "stream",
     "text": [
      "[('Bookings',), ('Facilities',), ('Members',)]\n"
     ]
    }
   ],
   "source": [
    "import sqlite3\n",
    "import pandas as pd\n",
    "import numpy as np\n",
    "\n",
    "\n",
    "\n",
    "conn = sqlite3.connect(\"sqlite_db_pythonsqlite.db\")\n",
    "cur = conn.cursor()\n",
    "\n",
    "cur.execute(\"select name from sqlite_master where type = 'table';\")\n",
    "\n",
    "rows = cur.fetchall()\n",
    "print(rows)\n"
   ]
  },
  {
   "cell_type": "markdown",
   "metadata": {},
   "source": [
    "## Q10 \n",
    "\n",
    "**Produce a list of facilities with a total revenue less than 1000. The output of facility name and total revenue, sorted by revenue. Remember that there's a different cost for guests and members!**"
   ]
  },
  {
   "cell_type": "code",
   "execution_count": 81,
   "metadata": {},
   "outputs": [
    {
     "name": "stdout",
     "output_type": "stream",
     "text": [
      "   facility_name  total_revenue\n",
      "0     Pool Table            315\n",
      "1  Snooker Table            285\n",
      "2   Table Tennis            210\n"
     ]
    }
   ],
   "source": [
    "\n",
    "cols = ['facility_name', 'total_revenue']\n",
    "query_result = cur.execute(\"select F.name, F.total_revenue FROM (SELECT Y.name, COUNT(X.facility_name) as num_months, SUM(X.revenue), Y.monthlymaintenance, (COUNT(X.facility_name) * Y.monthlymaintenance) as total_cost, (SUM(X.revenue) + (COUNT(X.facility_name) * Y.monthlymaintenance)) as total_revenue  FROM (select strftime('%m-%Y', starttime) as 'month-year', facility_name, SUM(revenue) as revenue FROM (select b.bookid, starttime, f.name as facility_name, b.memid, membercost, guestcost, slots, CASE WHEN memid = 0 THEN (slots * guestcost) ELSE (slots * membercost) END AS revenue from bookings AS b join facilities AS f ON b.facid = f.facid) GROUP BY strftime('%m-%Y', starttime), facility_name) AS X JOIN facilities AS Y ON X.facility_name = Y.name GROUP BY X.facility_name) AS F WHERE F.total_revenue < 1000 ORDER BY F.total_revenue DESC;\").fetchall()\n",
    "\n",
    "\n",
    "rev_less_1000 = pd.DataFrame(query_result, columns = cols)\n",
    "\n",
    "print(rev_less_1000)"
   ]
  },
  {
   "cell_type": "markdown",
   "metadata": {},
   "source": [
    "## Q11 \n",
    "\n",
    "**Produce a report of members and who recommended them in alphabetic surname,firstname order**"
   ]
  },
  {
   "cell_type": "code",
   "execution_count": 92,
   "metadata": {},
   "outputs": [
    {
     "name": "stdout",
     "output_type": "stream",
     "text": [
      "       member_surname member_firstname      recommended_by\n",
      "0               Bader         Florence    Stibbons, Ponder\n",
      "1               Baker             Anne    Stibbons, Ponder\n",
      "2               Baker          Timothy     Farrell, Jemima\n",
      "3              Boothe              Tim         Rownam, Tim\n",
      "4             Butters           Gerald       Smith, Darren\n",
      "5              Coplin             Joan      Baker, Timothy\n",
      "6             Crumpet            Erica        Smith, Tracy\n",
      "7                Dare            Nancy    Joplette, Janice\n",
      "8             Farrell            David                None\n",
      "9             Farrell           Jemima                None\n",
      "10              GUEST            GUEST                None\n",
      "11            Genting          Matthew     Butters, Gerald\n",
      "12               Hunt             John  Purview, Millicent\n",
      "13              Jones            David    Joplette, Janice\n",
      "14              Jones          Douglas        Jones, David\n",
      "15           Joplette           Janice       Smith, Darren\n",
      "16          Mackenzie             Anna       Smith, Darren\n",
      "17               Owen          Charles       Smith, Darren\n",
      "18             Pinker            David     Farrell, Jemima\n",
      "19            Purview        Millicent        Smith, Tracy\n",
      "20             Rownam              Tim                None\n",
      "21             Rumney        Henrietta    Genting, Matthew\n",
      "22             Sarwin        Ramnaresh     Bader, Florence\n",
      "23              Smith           Darren                None\n",
      "24              Smith           Darren                None\n",
      "25              Smith             Jack       Smith, Darren\n",
      "26              Smith            Tracy                None\n",
      "27           Stibbons           Ponder       Tracy, Burton\n",
      "28              Tracy           Burton                None\n",
      "29         Tupperware         Hyacinth                None\n",
      "30  Worthington-Smyth            Henry        Smith, Tracy\n"
     ]
    }
   ],
   "source": [
    "cols = ['member_surname', 'member_firstname', 'recommended_by']\n",
    "query_result = cur.execute(\"select m.surname, m.firstname, (X.surname || ', ' || X.firstname) from members AS m LEFT JOIN members as X ON m.recommendedby = X.memid ORDER BY m.surname, m.firstname;\").fetchall()\n",
    "\n",
    "\n",
    "members_w_recs = pd.DataFrame(query_result, columns = cols)\n",
    "print(members_w_recs)"
   ]
  },
  {
   "cell_type": "markdown",
   "metadata": {},
   "source": [
    "## Q12\n",
    "\n",
    "**Q12: Find the facilities with their usage by member, but not guests**"
   ]
  },
  {
   "cell_type": "code",
   "execution_count": 109,
   "metadata": {},
   "outputs": [
    {
     "name": "stdout",
     "output_type": "stream",
     "text": [
      "     facility_name  member_bookings_count\n",
      "0  Badminton Court                   1086\n",
      "1   Tennis Court 1                    957\n",
      "2   Massage Room 1                    884\n",
      "3   Tennis Court 2                    882\n",
      "4    Snooker Table                    860\n",
      "5       Pool Table                    856\n",
      "6     Table Tennis                    794\n",
      "7     Squash Court                    418\n",
      "8   Massage Room 2                     54\n"
     ]
    }
   ],
   "source": [
    "cols = ['facility_name', 'member_bookings_count']\n",
    "query_result = cur.execute(\"select f.name, SUM(b.slots) as member_bookings from bookings AS b JOIN facilities AS f ON b.facid = f.facid WHERE b.memid != 0 GROUP BY b.facid ORDER BY member_bookings DESC;\").fetchall()\n",
    "\n",
    "\n",
    "bookings = pd.DataFrame(query_result, columns = cols)\n",
    "print(bookings)\n",
    "\n"
   ]
  },
  {
   "cell_type": "markdown",
   "metadata": {},
   "source": [
    "## Q13\n",
    "\n",
    "**Q13: Find the facilities usage by month, but not guests**"
   ]
  },
  {
   "cell_type": "code",
   "execution_count": 146,
   "metadata": {},
   "outputs": [
    {
     "name": "stdout",
     "output_type": "stream",
     "text": [
      "      facility_name month-year  member_booking_count\n",
      "0   Badminton Court    09-2012                   507\n",
      "1        Pool Table    09-2012                   443\n",
      "2    Tennis Court 1    09-2012                   417\n",
      "3   Badminton Court    08-2012                   414\n",
      "4    Tennis Court 2    09-2012                   414\n",
      "5     Snooker Table    09-2012                   404\n",
      "6    Massage Room 1    09-2012                   402\n",
      "7      Table Tennis    09-2012                   400\n",
      "8    Tennis Court 2    08-2012                   345\n",
      "9    Tennis Court 1    08-2012                   339\n",
      "10   Massage Room 1    08-2012                   316\n",
      "11    Snooker Table    08-2012                   316\n",
      "12       Pool Table    08-2012                   303\n",
      "13     Table Tennis    08-2012                   296\n",
      "14   Tennis Court 1    07-2012                   201\n",
      "15     Squash Court    08-2012                   184\n",
      "16     Squash Court    09-2012                   184\n",
      "17   Massage Room 1    07-2012                   166\n",
      "18  Badminton Court    07-2012                   165\n",
      "19    Snooker Table    07-2012                   140\n",
      "20   Tennis Court 2    07-2012                   123\n",
      "21       Pool Table    07-2012                   110\n",
      "22     Table Tennis    07-2012                    98\n",
      "23     Squash Court    07-2012                    50\n",
      "24   Massage Room 2    09-2012                    28\n",
      "25   Massage Room 2    08-2012                    18\n",
      "26   Massage Room 2    07-2012                     8\n"
     ]
    }
   ],
   "source": [
    "query_result = cur.execute(\"PRAGMA table_info('Bookings');\").fetchall()\n",
    "#print(query_result)\n",
    "\n",
    "bookings_col_raw = pd.DataFrame(query_result)\n",
    "bookings_col_names = bookings_col_raw[1]\n",
    "\n",
    "cols = ['facility_name', 'month-year', 'member_booking_count']\n",
    "query_result = cur.execute(\"select f.name, strftime('%m-%Y', starttime) as 'month_year', SUM(slots) as usage from bookings AS b JOIN facilities AS F on b.facid = f.facid WHERE memid != 0 GROUP BY strftime('%m-%Y', starttime), f.name ORDER BY usage DESC;\").fetchall()\n",
    "\n",
    "bookings = pd.DataFrame(query_result, columns = cols)\n",
    "print(bookings)"
   ]
  }
 ],
 "metadata": {
  "kernelspec": {
   "display_name": "Python 3",
   "language": "python",
   "name": "python3"
  },
  "language_info": {
   "codemirror_mode": {
    "name": "ipython",
    "version": 3
   },
   "file_extension": ".py",
   "mimetype": "text/x-python",
   "name": "python",
   "nbconvert_exporter": "python",
   "pygments_lexer": "ipython3",
   "version": "3.7.6"
  }
 },
 "nbformat": 4,
 "nbformat_minor": 4
}
