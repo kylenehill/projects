{
 "cells": [
  {
   "cell_type": "markdown",
   "metadata": {},
   "source": [
    "This exercise will require you to pull some data from the Qunadl API. Qaundl is currently the most widely used aggregator of financial market data."
   ]
  },
  {
   "cell_type": "markdown",
   "metadata": {},
   "source": [
    "As a first step, you will need to register a free account on the http://www.quandl.com website."
   ]
  },
  {
   "cell_type": "markdown",
   "metadata": {},
   "source": [
    "After you register, you will be provided with a unique API key, that you should store:"
   ]
  },
  {
   "cell_type": "code",
   "execution_count": 12,
   "metadata": {},
   "outputs": [],
   "source": [
    "# Store the API key as a string - according to PEP8, constants are always named in all upper case\n",
    "API_KEY = 'APIKEY'"
   ]
  },
  {
   "cell_type": "markdown",
   "metadata": {},
   "source": [
    "Qaundl has a large number of data sources, but, unfortunately, most of them require a Premium subscription. Still, there are also a good number of free datasets."
   ]
  },
  {
   "cell_type": "markdown",
   "metadata": {},
   "source": [
    "For this mini project, we will focus on equities data from the Frankfurt Stock Exhange (FSE), which is available for free. We'll try and analyze the stock prices of a company called Carl Zeiss Meditec, which manufactures tools for eye examinations, as well as medical lasers for laser eye surgery: https://www.zeiss.com/meditec/int/home.html. The company is listed under the stock ticker AFX_X."
   ]
  },
  {
   "cell_type": "markdown",
   "metadata": {},
   "source": [
    "You can find the detailed Quandl API instructions here: https://docs.quandl.com/docs/time-series"
   ]
  },
  {
   "cell_type": "markdown",
   "metadata": {},
   "source": [
    "While there is a dedicated Python package for connecting to the Quandl API, we would prefer that you use the *requests* package, which can be easily downloaded using *pip* or *conda*. You can find the documentation for the package here: http://docs.python-requests.org/en/master/ "
   ]
  },
  {
   "cell_type": "markdown",
   "metadata": {},
   "source": [
    "Finally, apart from the *requests* package, you are encouraged to not use any third party Python packages, such as *pandas*, and instead focus on what's available in the Python Standard Library (the *collections* module might come in handy: https://pymotw.com/3/collections/ ).\n",
    "Also, since you won't have access to DataFrames, you are encouraged to us Python's native data structures - preferably dictionaries, though some questions can also be answered using lists.\n",
    "You can read more on these data structures here: https://docs.python.org/3/tutorial/datastructures.html"
   ]
  },
  {
   "cell_type": "markdown",
   "metadata": {},
   "source": [
    "Keep in mind that the JSON responses you will be getting from the API map almost one-to-one to Python's dictionaries. Unfortunately, they can be very nested, so make sure you read up on indexing dictionaries in the documentation provided above."
   ]
  },
  {
   "cell_type": "markdown",
   "metadata": {},
   "source": [
    "These are your tasks for this mini project:\n",
    "\n",
    "1. Collect data from the Franfurt Stock Exchange, for the ticker AFX_X, for the whole year 2017 (keep in mind that the date format is YYYY-MM-DD).\n",
    "2. Convert the returned JSON object into a Python dictionary.\n",
    "3. Calculate what the highest and lowest opening prices were for the stock in this period.\n",
    "4. What was the largest change in any one day (based on High and Low price)?\n",
    "5. What was the largest change between any two days (based on Closing Price)?\n",
    "6. What was the average daily trading volume during this year?\n",
    "7. (Optional) What was the median trading volume during this year. (Note: you may need to implement your own function for calculating the median.)"
   ]
  },
  {
   "cell_type": "code",
   "execution_count": 2,
   "metadata": {},
   "outputs": [],
   "source": [
    "import requests"
   ]
  },
  {
   "cell_type": "code",
   "execution_count": 13,
   "metadata": {},
   "outputs": [],
   "source": [
    "# Task 1 \n",
    "url = 'https://www.quandl.com/api/v3/datasets/FSE/AFX_X.json?api_key=APIKEY&start_date=2017-01-01&end_date=2017-12-31'\n",
    "params = dict(key=API_KEY)\n",
    "data = requests.get(url, params= params)\n",
    "\n",
    "# Task 2\n",
    "data = data.json()\n",
    "\n",
    "#print(data)"
   ]
  },
  {
   "cell_type": "code",
   "execution_count": 4,
   "metadata": {},
   "outputs": [
    {
     "name": "stdout",
     "output_type": "stream",
     "text": [
      "<class 'dict'>\n"
     ]
    }
   ],
   "source": [
    "print(type(data))"
   ]
  },
  {
   "cell_type": "code",
   "execution_count": 5,
   "metadata": {},
   "outputs": [
    {
     "name": "stdout",
     "output_type": "stream",
     "text": [
      "['Date', 'Open', 'High', 'Low', 'Close', 'Change', 'Traded Volume', 'Turnover', 'Last Price of the Day', 'Daily Traded Units', 'Daily Turnover']\n",
      " \n",
      "[['2017-12-29', 51.76, 51.94, 51.45, 51.76, None, 34640.0, 1792304.0, None, None, None], ['2017-12-28', 51.65, 51.82, 51.43, 51.6, None, 40660.0, 2099024.0, None, None, None], ['2017-12-27', 51.45, 51.89, 50.76, 51.82, None, 57452.0, 2957018.0, None, None, None], ['2017-12-22', 51.05, 51.5, 50.92, 51.32, None, 71165.0, 3641949.0, None, None, None], ['2017-12-21', 51.16, 51.52, 50.9, 51.4, None, 120649.0, 6179433.0, None, None, None]]\n"
     ]
    }
   ],
   "source": [
    "# explore column info and first few rows\n",
    "\n",
    "columns = data['dataset']['column_names']\n",
    "rows = data['dataset']['data']\n",
    "\n",
    "print(columns)\n",
    "print(\" \")\n",
    "print(rows[:5])"
   ]
  },
  {
   "cell_type": "code",
   "execution_count": 6,
   "metadata": {},
   "outputs": [
    {
     "name": "stdout",
     "output_type": "stream",
     "text": [
      "The Opening high price is $53.11, and the Opening low price is $34.0.\n"
     ]
    }
   ],
   "source": [
    "# Task 3\n",
    "# find highest and lowest opening prices\n",
    "\n",
    "opening_high = 0.00\n",
    "opening_low = 100.00\n",
    "for row in rows:\n",
    "    opening_price = row[1]\n",
    "    try:\n",
    "        if opening_price > opening_high:\n",
    "            opening_high = opening_price\n",
    "        if opening_price < opening_low:\n",
    "            opening_low = opening_price\n",
    "    except:\n",
    "        continue\n",
    "print(\"The Opening high price is $\" + str(opening_high) + \", and the Opening low price is $\" + str(opening_low) + \".\")"
   ]
  },
  {
   "cell_type": "code",
   "execution_count": 7,
   "metadata": {},
   "outputs": [
    {
     "name": "stdout",
     "output_type": "stream",
     "text": [
      "The greatest difference in High and Low prices reported in one day was on 2017-05-11 with a recorded difference of $2.81 dollars.\n"
     ]
    }
   ],
   "source": [
    "# Task 4\n",
    "# find greatest change in one day\n",
    "\n",
    "max_diff = 0\n",
    "for row in rows:\n",
    "    high = row[2]\n",
    "    low = row[3]\n",
    "    try:\n",
    "        diff = abs(high-low)\n",
    "        if diff > max_diff:\n",
    "            max_diff = diff\n",
    "            day = row[0]\n",
    "    except:\n",
    "        continue\n",
    "        \n",
    "max_diff = round(max_diff,2)\n",
    "\n",
    "    \n",
    "print(\"The greatest difference in High and Low prices reported in one day was on \" + day + \" with a recorded difference of $\" + str(max_diff) + \" dollars.\") "
   ]
  },
  {
   "cell_type": "code",
   "execution_count": 8,
   "metadata": {},
   "outputs": [
    {
     "name": "stdout",
     "output_type": "stream",
     "text": [
      "The greatest difference in closing prices between two days was recorded on 2017-12-13 with a difference of $53.09 dollars.\n"
     ]
    }
   ],
   "source": [
    "# Task 5\n",
    "# find greatest change between two days, as reported in the Close column\n",
    "\n",
    "max_diff = 0\n",
    "yest_close = 0\n",
    "for row in rows:\n",
    "    close = row[4]\n",
    "    diff = abs(close - yest_close)\n",
    "    try:\n",
    "        diff = abs(close - yest_close)\n",
    "        if diff > max_diff:\n",
    "            max_diff = diff\n",
    "            day = row[0]\n",
    "    except:\n",
    "        continue\n",
    "        \n",
    "max_diff = round(max_diff,2)\n",
    "\n",
    "    \n",
    "print(\"The greatest difference in closing prices between two days was recorded on \" + day + \" with a difference of $\" + str(max_diff) + \" dollars.\") "
   ]
  },
  {
   "cell_type": "code",
   "execution_count": 9,
   "metadata": {},
   "outputs": [
    {
     "name": "stdout",
     "output_type": "stream",
     "text": [
      "The average daily trading volume during the year is $89124.34.\n"
     ]
    }
   ],
   "source": [
    "# Task 6\n",
    "# find average trading value \n",
    "\n",
    "total_vol = 0\n",
    "count = 0 \n",
    "for row in rows:\n",
    "    vol = row[6]\n",
    "    try:\n",
    "        total_vol = total_vol + vol\n",
    "        count += 1\n",
    "    except:\n",
    "        print(\"Error with row: \" + row)\n",
    "\n",
    "avg_vol = round((total_vol / count),2)\n",
    "print(\"The average daily trading volume during the year is $\" + str(avg_vol) + \".\")"
   ]
  },
  {
   "cell_type": "code",
   "execution_count": 10,
   "metadata": {},
   "outputs": [
    {
     "name": "stdout",
     "output_type": "stream",
     "text": [
      "The median trading volume for the year is $76600.0.\n"
     ]
    }
   ],
   "source": [
    "# Task 7\n",
    "# find median trading value \n",
    "\n",
    "all_vols = list()\n",
    "for row in rows:\n",
    "    vol = row[6]\n",
    "    all_vols.append(vol)\n",
    "\n",
    "    \n",
    "all_vols = sorted(all_vols)\n",
    "\n",
    "if len(all_vols) % 2 != 0:\n",
    "    indx = int((len(all_vols) + 1) / 2)\n",
    "    median = all_vols[indx]\n",
    "else:\n",
    "    indx1 = int(len(all_vols) / 2)\n",
    "    indx2 = int(indx1 + 1)\n",
    "    median = round(((indx1 + indx2) / 2),2)\n",
    "      \n",
    "\n",
    "print(\"The median trading volume for the year is $\" + str(median) + \".\")"
   ]
  },
  {
   "cell_type": "code",
   "execution_count": null,
   "metadata": {},
   "outputs": [],
   "source": []
  }
 ],
 "metadata": {
  "kernelspec": {
   "display_name": "Python 3",
   "language": "python",
   "name": "python3"
  },
  "language_info": {
   "codemirror_mode": {
    "name": "ipython",
    "version": 3
   },
   "file_extension": ".py",
   "mimetype": "text/x-python",
   "name": "python",
   "nbconvert_exporter": "python",
   "pygments_lexer": "ipython3",
   "version": "3.7.6"
  }
 },
 "nbformat": 4,
 "nbformat_minor": 2
}
